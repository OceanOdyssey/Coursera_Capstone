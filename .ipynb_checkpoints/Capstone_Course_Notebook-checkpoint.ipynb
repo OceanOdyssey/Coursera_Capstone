{
 "cells": [
  {
   "cell_type": "markdown",
   "metadata": {},
   "source": [
    "## Housing Search in Massachusetts Leveraging Unsupervised Machine Learning\n",
    "\n",
    "#### Chris Grace\n",
    "May 17th, 2021"
   ]
  },
  {
   "cell_type": "markdown",
   "metadata": {},
   "source": [
    "### Introduction\n",
    "\n",
    "In the search for a new home, it is generally easy to identify various characteristics such as square footage or number of bedrooms and search for properties using well-known sites such as Zillow.com, Realtor.com, or Redfin.com.  However, if you desire to investigate nearby amenities of each property, that typically involves looking up each address individually to judge suitability.  This project aims to streamline that process to narrow down the number of properties which will need to be investigated.\n",
    "\n",
    "Our clients are homeowners and would like to relocate to a larger house due to a growing family.  They like the nearby amenities of their current neighborhood and would like to find a house in a neighborhood which offers similar nearby amenities.  Due to limited houses on the market, they also don't want to limit themselves to their current neighborhood.  Therefore, we will provide a means to input search parameters for the house, such as cost, square footage, number of bedrooms, etc. in a specified county.  Next, each address will be used as the center point of an amenity search to determine all businesses and attractions nearby.  Using an unsupervised learning algorithm, we'll group all the listings into common clusters bases on their nearby amenities.  The cluster which has their current address will be selected for further investigation since those addresses are most likely to have a similar neighborhood feel to their current residence.\n",
    "\n",
    "The selected cluster should output relevant summary information which may help to narrow houses down further such as price, square footage, number of bedrooms, and proximity to major public amenities (hospital, fire station, police station, etc.).\n",
    "\n",
    "While the clients in this case are a single user, this situation is encountered enough that this script is being developed to help future clients and to be used as a differentiator from other real estate offices.\n",
    "\n",
    "### Data\n",
    "\n",
    "This project will use a few sources of data.\n",
    "\n",
    "* <b>Redfin API</b><br>\n",
    "    Redfin has an unofficial API which can be accessed by downloading the data from a search request.  The process to download a csv file with the API is briefly described here: https://support.redfin.com/hc/en-us/articles/360016476931-Downloading-Data.  When the link for this option is examined, it can be seen that the parameters can be altered to produce a csv file of our choosing.\n",
    "<br>  \n",
    "\n",
    "* <b>Foursquare API</b> (https://developer.foursquare.com/)<br> \n",
    "    Foursquare has an API which enables the user to return nearby venues of interest when the latitude and longitude of an address is entered.\n",
    "   \n",
    "\n",
    "### Methodology \n",
    "\n",
    "Section which represents the main component of the report where you discuss and describe any exploratory data analysis that you did, any inferential statistical testing that you performed, if any, and what machine learnings were used and why.\n",
    "\n",
    "### Results \n",
    "\n",
    "Section where you discuss the results.\n",
    "\n",
    "### Discussion\n",
    "\n",
    "Section where you discuss any observations you noted and any recommendations you can make based on the results.\n",
    "\n",
    "### Conclusion\n",
    "\n",
    "Section where you conclude the report."
   ]
  },
  {
   "cell_type": "code",
   "execution_count": 1,
   "metadata": {},
   "outputs": [],
   "source": [
    "import pandas as pd\n",
    "import numpy as np"
   ]
  },
  {
   "cell_type": "code",
   "execution_count": 3,
   "metadata": {},
   "outputs": [
    {
     "name": "stdout",
     "output_type": "stream",
     "text": [
      "Hello Capstone Project Course!\n"
     ]
    }
   ],
   "source": [
    "print(\"Hello Capstone Project Course!\")"
   ]
  },
  {
   "cell_type": "code",
   "execution_count": null,
   "metadata": {},
   "outputs": [],
   "source": []
  }
 ],
 "metadata": {
  "kernelspec": {
   "display_name": "Python 3",
   "language": "python",
   "name": "python3"
  },
  "language_info": {
   "codemirror_mode": {
    "name": "ipython",
    "version": 3
   },
   "file_extension": ".py",
   "mimetype": "text/x-python",
   "name": "python",
   "nbconvert_exporter": "python",
   "pygments_lexer": "ipython3",
   "version": "3.8.5"
  }
 },
 "nbformat": 4,
 "nbformat_minor": 4
}
